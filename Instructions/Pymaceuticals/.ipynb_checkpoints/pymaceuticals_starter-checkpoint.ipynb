{
 "cells": [
  {
   "cell_type": "markdown",
   "metadata": {},
   "source": [
    "## Observations and Insights"
   ]
  },
  {
   "cell_type": "markdown",
   "metadata": {},
   "source": []
  },
  {
   "cell_type": "markdown",
   "metadata": {},
   "source": [
    "## Dependencies and starter code"
   ]
  },
  {
   "cell_type": "code",
   "execution_count": 1,
   "metadata": {},
   "outputs": [],
   "source": [
    "# Dependencies and Setup\n",
    "import matplotlib.pyplot as plt\n",
    "import pandas as pd\n",
    "import scipy.stats as st\n",
    "import numpy as np\n",
    "\n",
    "\n",
    "# Study data files\n",
    "mouse_metadata = \"data/Mouse_metadata.csv\"\n",
    "study_results = \"data/Study_results.csv\"\n",
    "#mouse_drug_data = \"data/mouse_drug_data.csv\"\n",
    "#clinical_trial_data = \"data/clinicaltrial_data.csv\"\n",
    "\n",
    "\n",
    "# Read the mouse data and the study results\n",
    "mouse_metadata_df = pd.read_csv(mouse_metadata)\n",
    "study_results_df = pd.read_csv(study_results)\n",
    "#mouse_drug_data_df = pd.read_csv(mouse_drug_data)\n",
    "#clinical_trial_data_df = pd.read_csv(clinical_trial_data)\n",
    "# Combine the data into a single dataset"
   ]
  },
  {
   "cell_type": "code",
   "execution_count": 15,
   "metadata": {},
   "outputs": [
    {
     "name": "stdout",
     "output_type": "stream",
     "text": [
      "   Mouse ID Drug Regimen     Sex  Age_months  Weight (g)\n",
      "49     a203    Infubinol  Female          20          23\n",
      "50     a251    Infubinol  Female          21          25\n",
      "51     a262      Placebo  Female          17          29\n",
      "52     a275     Ceftamin  Female          20          28\n",
      "53     a366     Stelasyn  Female          16          29\n",
      "     Mouse ID  Timepoint  Tumor Volume (mm3)  Metastatic Sites\n",
      "113      a203          0           45.000000                 0\n",
      "389      a203          5           48.508468                 0\n",
      "1295     a203         25           56.793208                 1\n",
      "1675     a203         40           63.593490                 2\n",
      "1577     a203         35           61.931650                 2\n"
     ]
    }
   ],
   "source": [
    "mouse_study_mrgd_df = mouse_metadata_df.merge(study_results_df, on='Mouse ID', how='outer')\n",
    "mouse_study_mrgd_df.rename(columns={\"Drug Regimen\":\"Drug\"}, inplace = True)\n",
    "\n",
    "mouse_study_mrgd_df['Tumor Volume (mm3)']=mouse_study_mrgd_df['Tumor Volume (mm3)'].astype(float)\n",
    "mouse_study_mrgd_df['Timepoint']=mouse_study_mrgd_df['Timepoint'].astype(int)\n",
    "\n",
    "\n",
    "print(mouse_metadata_df.sort_values(by='Mouse ID').head(5))\n",
    "print(study_results_df.sort_values(by='Mouse ID').head(5))\n",
    "#print(mouse_drug_data_df.head(5))\n",
    "#print(clinical_trial_data_df.head(5))"
   ]
  },
  {
   "cell_type": "markdown",
   "metadata": {},
   "source": [
    "## Summary statistics"
   ]
  },
  {
   "cell_type": "code",
   "execution_count": 3,
   "metadata": {
    "scrolled": true
   },
   "outputs": [
    {
     "data": {
      "text/html": [
       "<div>\n",
       "<style scoped>\n",
       "    .dataframe tbody tr th:only-of-type {\n",
       "        vertical-align: middle;\n",
       "    }\n",
       "\n",
       "    .dataframe tbody tr th {\n",
       "        vertical-align: top;\n",
       "    }\n",
       "\n",
       "    .dataframe thead th {\n",
       "        text-align: right;\n",
       "    }\n",
       "</style>\n",
       "<table border=\"1\" class=\"dataframe\">\n",
       "  <thead>\n",
       "    <tr style=\"text-align: right;\">\n",
       "      <th></th>\n",
       "      <th>mean</th>\n",
       "      <th>median</th>\n",
       "      <th>variance</th>\n",
       "      <th>standard deviation</th>\n",
       "      <th>SEM</th>\n",
       "    </tr>\n",
       "  </thead>\n",
       "  <tbody>\n",
       "    <tr>\n",
       "      <td>0</td>\n",
       "      <td>50.448381</td>\n",
       "      <td>48.951474</td>\n",
       "      <td>79.116074</td>\n",
       "      <td>8.894722</td>\n",
       "      <td>0.204436</td>\n",
       "    </tr>\n",
       "  </tbody>\n",
       "</table>\n",
       "</div>"
      ],
      "text/plain": [
       "        mean     median   variance  standard deviation       SEM\n",
       "0  50.448381  48.951474  79.116074            8.894722  0.204436"
      ]
     },
     "execution_count": 3,
     "metadata": {},
     "output_type": "execute_result"
    }
   ],
   "source": [
    "# Generate a summary statistics table of mean, median, variance, standard deviation, and SEM of the tumor volume for each regimen\n",
    "\n",
    "mean_tum_vol = mouse_study_mrgd_df['Tumor Volume (mm3)'].mean()\n",
    "median_tum_vol = mouse_study_mrgd_df['Tumor Volume (mm3)'].median(axis=0)\n",
    "var_tum_vol = mouse_study_mrgd_df['Tumor Volume (mm3)'].var()\n",
    "std_tum_vol = mouse_study_mrgd_df['Tumor Volume (mm3)'].std(axis=0)\n",
    "sem_tum_vol = mouse_study_mrgd_df['Tumor Volume (mm3)'].sem(axis=0)\n",
    "\n",
    "stat_summary_df = pd.DataFrame({'mean':mean_tum_vol,\n",
    "                   'median':median_tum_vol,\n",
    "                   'variance':var_tum_vol,\n",
    "                   'standard deviation':[std_tum_vol],\n",
    "                    'SEM':sem_tum_vol})\n",
    "\n",
    "stat_summary_df"
   ]
  },
  {
   "cell_type": "markdown",
   "metadata": {},
   "source": [
    "## Bar plots"
   ]
  },
  {
   "cell_type": "code",
   "execution_count": 4,
   "metadata": {
    "scrolled": true
   },
   "outputs": [
    {
     "data": {
      "text/plain": [
       "Drug\n",
       "Capomulin   -19.475303\n",
       "Ceftamin     42.516492\n",
       "Infubinol    46.123472\n",
       "Ketapril     57.028795\n",
       "Naftisol     53.923347\n",
       "Placebo      51.297960\n",
       "Propriva     47.241175\n",
       "Ramicane    -22.320900\n",
       "Stelasyn     52.085134\n",
       "Zoniferol    46.579751\n",
       "Name: Tumor Volume (mm3), dtype: float64"
      ]
     },
     "execution_count": 4,
     "metadata": {},
     "output_type": "execute_result"
    }
   ],
   "source": [
    "#print(mouse_study_mrgd_df.head(5))\n",
    "\n",
    "vol_day_0 = mouse_study_mrgd_df[mouse_study_mrgd_df['Timepoint']==0]\n",
    "vol_day_45 = mouse_study_mrgd_df[mouse_study_mrgd_df['Timepoint']==45]\n",
    "#vol_day_0['Tumor Volume (mm3)']=vol_day_0['Tumor Volume (mm3)'].astype(float)\n",
    "sum_day_0 = vol_day_0.groupby('Drug')['Tumor Volume (mm3)'].mean()\n",
    "sum_day_45 = vol_day_45.groupby('Drug')['Tumor Volume (mm3)'].mean()\n",
    "\n",
    "pct_tum_vol_chg = (sum_day_45 - sum_day_0)*100/sum_day_0\n",
    "\n",
    "pct_tum_vol_chg\n"
   ]
  },
  {
   "cell_type": "code",
   "execution_count": 5,
   "metadata": {},
   "outputs": [
    {
     "data": {
      "text/plain": [
       "Text(0.5, 1.0, 'Tumor Change over 45 Day Treatment')"
      ]
     },
     "execution_count": 5,
     "metadata": {},
     "output_type": "execute_result"
    },
    {
     "data": {
      "image/png": "[encoded data removed]",
      "text/plain": [
       "<Figure size 432x288 with 1 Axes>"
      ]
     },
     "metadata": {
      "needs_background": "light"
     },
     "output_type": "display_data"
    }
   ],
   "source": [
    "# Generate a bar plot showing number of data points for each treatment regimen using pandas\n",
    "passing = pct_tum_vol_chg < 0\n",
    "x_axis = ['Capomulin','Infubinol','Ketapril','Placebo','Zoniferol']\n",
    "y_axis = [(pct_tum_vol_chg[Drug])for Drug in x_axis]\n",
    "#x_axis=pct_tum_vol_chg_df['Drug Regimen']\n",
    "\n",
    "\n",
    "#tick_locations = [value for value in x_axis]\n",
    "\n",
    "plt.bar(x_axis, y_axis,width=-1,align='edge',color=passing.map({True:'g',False:'r'}))\n",
    "plt.grid()\n",
    "plt.ylim(-30,70)\n",
    "plt.ylabel('% Tumor Volume Change')\n",
    "plt.title('Tumor Change over 45 Day Treatment')\n",
    "#plt.xticks(tick_locations,mouse_study_mrgd_df['Drug Regimen'],rotation='vertical')\n",
    "\n"
   ]
  },
  {
   "cell_type": "code",
   "execution_count": 6,
   "metadata": {},
   "outputs": [
    {
     "data": {
      "image/png": "[encoded data removed]",
      "text/plain": [
       "<Figure size 432x288 with 1 Axes>"
      ]
     },
     "metadata": {
      "needs_background": "light"
     },
     "output_type": "display_data"
    }
   ],
   "source": [
    "# Generate a bar plot showing number of data points for each treatment regimen using pyplot\n",
    "\n",
    "pct_tum_vol_chg_df = pct_tum_vol_chg.to_frame().reset_index()\n",
    "\n",
    "#Using a list of values to select rows from a pandas dataframe\n",
    "pct_tum_vol_chg_df_py = pct_tum_vol_chg_df[pct_tum_vol_chg_df['Drug'].isin(x_axis)]\n",
    "\n",
    "#plot\n",
    "colors = tuple(np.where(pct_tum_vol_chg_df_py[\"Tumor Volume (mm3)\"]<0, 'g', 'r'))\n",
    "pct_tum_vol_chg_df_py.plot(kind='bar',x='Drug', y='Tumor Volume (mm3)',color=colors, grid=True, width=1,align='edge')\n",
    "\n",
    "\n",
    "plt.show()"
   ]
  },
  {
   "cell_type": "markdown",
   "metadata": {},
   "source": [
    "## Pie plots"
   ]
  },
  {
   "cell_type": "code",
   "execution_count": 7,
   "metadata": {},
   "outputs": [
    {
     "name": "stdout",
     "output_type": "stream",
     "text": [
      "      Sex  Total\n",
      "0  Female    124\n",
      "1    Male    125\n"
     ]
    },
    {
     "data": {
      "image/png": "[encoded data removed]",
      "text/plain": [
       "<Figure size 432x288 with 1 Axes>"
      ]
     },
     "metadata": {},
     "output_type": "display_data"
    }
   ],
   "source": [
    "# Generate a pie plot showing the distribution of female versus male mice using pandas\n",
    "gen_count = mouse_study_mrgd_df.groupby('Sex')['Mouse ID'].nunique()\n",
    "gen_count_df = gen_count.to_frame().reset_index()\n",
    "#mouse_study_mrgd_df\n",
    "gen_count_df.rename(columns={\"Mouse ID\":\"Total\"}, inplace=True)\n",
    "explode = (0.1, 0)\n",
    "plt.pie(gen_count_df['Total'], labels=gen_count_df['Sex'],explode=explode,shadow=True, startangle=140,autopct='%1.1f%%')\n",
    "\n",
    "print(gen_count_df)"
   ]
  },
  {
   "cell_type": "code",
   "execution_count": 8,
   "metadata": {},
   "outputs": [
    {
     "data": {
      "text/plain": [
       "<matplotlib.axes._subplots.AxesSubplot at 0x1433a5b5408>"
      ]
     },
     "execution_count": 8,
     "metadata": {},
     "output_type": "execute_result"
    },
    {
     "data": {
      "image/png": "[encoded data removed]",
      "text/plain": [
       "<Figure size 432x288 with 1 Axes>"
      ]
     },
     "metadata": {},
     "output_type": "display_data"
    }
   ],
   "source": [
    "# Generate a pie plot showing the distribution of female versus male mice using pyplot\n",
    "\n",
    "gen_count_df.plot(kind='pie', y = 'Total', autopct='%1.1f%%', \n",
    " startangle=140, shadow=True, labels=gen_count_df['Sex'], legend = False,explode=explode)"
   ]
  },
  {
   "cell_type": "markdown",
   "metadata": {},
   "source": [
    "## Quartiles, outliers and boxplots"
   ]
  },
  {
   "cell_type": "code",
   "execution_count": 9,
   "metadata": {},
   "outputs": [
    {
     "name": "stdout",
     "output_type": "stream",
     "text": [
      "  Mouse ID      Drug   Sex  Age_months  Weight (g)  Timepoint  \\\n",
      "0     k403  Ramicane  Male          21          16          0   \n",
      "1     k403  Ramicane  Male          21          16          5   \n",
      "2     k403  Ramicane  Male          21          16         10   \n",
      "3     k403  Ramicane  Male          21          16         15   \n",
      "4     k403  Ramicane  Male          21          16         20   \n",
      "5     k403  Ramicane  Male          21          16         25   \n",
      "6     k403  Ramicane  Male          21          16         30   \n",
      "7     k403  Ramicane  Male          21          16         35   \n",
      "8     k403  Ramicane  Male          21          16         40   \n",
      "9     k403  Ramicane  Male          21          16         45   \n",
      "\n",
      "   Tumor Volume (mm3)  Metastatic Sites  \n",
      "0           45.000000                 0  \n",
      "1           38.825898                 0  \n",
      "2           35.014271                 1  \n",
      "3           34.223992                 1  \n",
      "4           32.997729                 1  \n",
      "5           33.464577                 1  \n",
      "6           31.099498                 1  \n",
      "7           26.546993                 1  \n",
      "8           24.365505                 1  \n",
      "9           22.050126                 1  \n"
     ]
    }
   ],
   "source": [
    "print(mouse_study_mrgd_df.head(10))"
   ]
  },
  {
   "cell_type": "code",
   "execution_count": 10,
   "metadata": {},
   "outputs": [
    {
     "name": "stdout",
     "output_type": "stream",
     "text": [
      "33.48002734\n",
      "62.14221369\n",
      "28.66218635\n"
     ]
    }
   ],
   "source": [
    "# Calculate the final tumor volume of each mouse across four of the most promising treatment regimens. Calculate the IQR and quantitatively determine if there are any potential outliers.\n",
    "#most promissing therapy\n",
    "most_promising = pct_tum_vol_chg_df.nsmallest(4, 'Tumor Volume (mm3)')\n",
    "\n",
    "dfToList = most_promising['Drug'].tolist()\n",
    "#\n",
    "final_tmr_vol = mouse_study_mrgd_df[(mouse_study_mrgd_df['Timepoint']==45)&(mouse_study_mrgd_df['Drug'].isin(dfToList))] \n",
    "\n",
    "q1 = final_tmr_vol['Tumor Volume (mm3)'].quantile(.25)\n",
    "q3 = final_tmr_vol['Tumor Volume (mm3)'].quantile(.75)\n",
    "\n",
    "#Another way of calculating percentile\n",
    "#q1 = np.percentile( final_tmr_vol['Tumor Volume (mm3)'], 25)\n",
    "#q3 = np.percentile( final_tmr_vol['Tumor Volume (mm3)'], 75)\n",
    "\n",
    "iqr=q3-q1\n",
    "\n",
    "\n",
    "print(q1)\n",
    "print(q3)\n",
    "print(iqr)\n"
   ]
  },
  {
   "cell_type": "code",
   "execution_count": 11,
   "metadata": {},
   "outputs": [
    {
     "data": {
      "image/png": "[encoded data removed]",
      "text/plain": [
       "<Figure size 432x288 with 1 Axes>"
      ]
     },
     "metadata": {
      "needs_background": "light"
     },
     "output_type": "display_data"
    }
   ],
   "source": [
    "# Generate a box plot of the final tumor volume of each mouse across four regimens of interest\n",
    "\n",
    "lbr = q1 - 1.5 * iqr\n",
    "ubr = q3 + 1.5 * iqr\n",
    "\n",
    "final_tmr_vol['Tumor Volume (mm3)'][final_tmr_vol['Tumor Volume (mm3)']<=lbr]\n",
    "final_tmr_vol['Tumor Volume (mm3)'][final_tmr_vol['Tumor Volume (mm3)']>=ubr]\n",
    "plt.boxplot(final_tmr_vol['Tumor Volume (mm3)'], showmeans=True)\n",
    "plt.grid()\n",
    "plt.show()\n",
    "\n",
    "#plt.boxplot(q1,q3,iqr)"
   ]
  },
  {
   "cell_type": "markdown",
   "metadata": {},
   "source": [
    "## Line and scatter plots"
   ]
  },
  {
   "cell_type": "code",
   "execution_count": 17,
   "metadata": {},
   "outputs": [
    {
     "data": {
      "image/png": "[encoded data removed]",
      "text/plain": [
       "<Figure size 432x288 with 1 Axes>"
      ]
     },
     "metadata": {
      "needs_background": "light"
     },
     "output_type": "display_data"
    }
   ],
   "source": [
    "# Generate a line plot of time point versus tumor volume for a mouse treated with Capomulin\n",
    "Capomulin_list = [\"Capomulin\"]\n",
    "mouse_is =[\"s185\"]\n",
    "Capomulin_df = mouse_study_mrgd_df[mouse_study_mrgd_df[\"Drug\"].isin(Capomulin_list )&\n",
    "                                  mouse_study_mrgd_df[\"Mouse ID\"].isin(mouse_is)]\n",
    "\n",
    "plt.plot(Capomulin_df[\"Timepoint\"],Capomulin_df[\"Tumor Volume (mm3)\"])\n",
    "\n",
    "plt.title('Tumor Response to Treatment')\n",
    "plt.xlabel('Time (Days)')\n",
    "plt.ylabel('Tumor Volume (mm3)')\n",
    "plt.grid()"
   ]
  },
  {
   "cell_type": "code",
   "execution_count": 13,
   "metadata": {},
   "outputs": [],
   "source": [
    "# Generate a scatter plot of mouse weight versus average tumor volume for the Capomulin regimen\n",
    "\n"
   ]
  },
  {
   "cell_type": "code",
   "execution_count": 14,
   "metadata": {},
   "outputs": [],
   "source": [
    "# Calculate the correlation coefficient and linear regression model for mouse weight and average tumor volume for the Capomulin regimen\n",
    "\n"
   ]
  },
  {
   "cell_type": "code",
   "execution_count": null,
   "metadata": {},
   "outputs": [],
   "source": []
  }
 ],
 "metadata": {
  "anaconda-cloud": {},
  "kernelspec": {
   "display_name": "Python 3",
   "language": "python",
   "name": "python3"
  },
  "language_info": {
   "codemirror_mode": {
    "name": "ipython",
    "version": 3
   },
   "file_extension": ".py",
   "mimetype": "text/x-python",
   "name": "python",
   "nbconvert_exporter": "python",
   "pygments_lexer": "ipython3",
   "version": "3.7.4"
  }
 },
 "nbformat": 4,
 "nbformat_minor": 2
}
