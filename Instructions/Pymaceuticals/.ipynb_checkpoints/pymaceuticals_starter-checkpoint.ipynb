{
 "cells": [
  {
   "cell_type": "markdown",
   "metadata": {},
   "source": [
    "## Observations and Insights"
   ]
  },
  {
   "cell_type": "markdown",
   "metadata": {},
   "source": []
  },
  {
   "cell_type": "markdown",
   "metadata": {},
   "source": [
    "## Dependencies and starter code"
   ]
  },
  {
   "cell_type": "code",
   "execution_count": 1,
   "metadata": {},
   "outputs": [],
   "source": [
    "# Dependencies and Setup\n",
    "import matplotlib.pyplot as plt\n",
    "import pandas as pd\n",
    "import scipy.stats as st\n",
    "import numpy as np\n",
    "\n",
    "\n",
    "# Study data files\n",
    "mouse_metadata = \"data/Mouse_metadata.csv\"\n",
    "study_results = \"data/Study_results.csv\"\n",
    "#mouse_drug_data = \"data/mouse_drug_data.csv\"\n",
    "#clinical_trial_data = \"data/clinicaltrial_data.csv\"\n",
    "\n",
    "\n",
    "# Read the mouse data and the study results\n",
    "mouse_metadata_df = pd.read_csv(mouse_metadata)\n",
    "study_results_df = pd.read_csv(study_results)\n",
    "#mouse_drug_data_df = pd.read_csv(mouse_drug_data)\n",
    "#clinical_trial_data_df = pd.read_csv(clinical_trial_data)\n",
    "# Combine the data into a single dataset"
   ]
  },
  {
   "cell_type": "code",
   "execution_count": 2,
   "metadata": {},
   "outputs": [
    {
     "name": "stdout",
     "output_type": "stream",
     "text": [
      "   Mouse ID Drug Regimen     Sex  Age_months  Weight (g)\n",
      "49     a203    Infubinol  Female          20          23\n",
      "50     a251    Infubinol  Female          21          25\n",
      "51     a262      Placebo  Female          17          29\n",
      "52     a275     Ceftamin  Female          20          28\n",
      "53     a366     Stelasyn  Female          16          29\n",
      "     Mouse ID  Timepoint  Tumor Volume (mm3)  Metastatic Sites\n",
      "113      a203          0           45.000000                 0\n",
      "389      a203          5           48.508468                 0\n",
      "1295     a203         25           56.793208                 1\n",
      "1675     a203         40           63.593490                 2\n",
      "1577     a203         35           61.931650                 2\n"
     ]
    }
   ],
   "source": [
    "print(mouse_metadata_df.sort_values(by='Mouse ID').head(5))\n",
    "print(study_results_df.sort_values(by='Mouse ID').head(5))\n",
    "#print(mouse_drug_data_df.head(5))\n",
    "#print(clinical_trial_data_df.head(5))"
   ]
  },
  {
   "cell_type": "markdown",
   "metadata": {},
   "source": [
    "## Summary statistics"
   ]
  },
  {
   "cell_type": "code",
   "execution_count": 3,
   "metadata": {
    "scrolled": true
   },
   "outputs": [
    {
     "data": {
      "text/html": [
       "<div>\n",
       "<style scoped>\n",
       "    .dataframe tbody tr th:only-of-type {\n",
       "        vertical-align: middle;\n",
       "    }\n",
       "\n",
       "    .dataframe tbody tr th {\n",
       "        vertical-align: top;\n",
       "    }\n",
       "\n",
       "    .dataframe thead th {\n",
       "        text-align: right;\n",
       "    }\n",
       "</style>\n",
       "<table border=\"1\" class=\"dataframe\">\n",
       "  <thead>\n",
       "    <tr style=\"text-align: right;\">\n",
       "      <th></th>\n",
       "      <th>mean</th>\n",
       "      <th>median</th>\n",
       "      <th>variance</th>\n",
       "      <th>standard deviation</th>\n",
       "      <th>SEM</th>\n",
       "    </tr>\n",
       "  </thead>\n",
       "  <tbody>\n",
       "    <tr>\n",
       "      <td>0</td>\n",
       "      <td>50.448381</td>\n",
       "      <td>48.951474</td>\n",
       "      <td>79.116074</td>\n",
       "      <td>8.894722</td>\n",
       "      <td>0.204436</td>\n",
       "    </tr>\n",
       "  </tbody>\n",
       "</table>\n",
       "</div>"
      ],
      "text/plain": [
       "        mean     median   variance  standard deviation       SEM\n",
       "0  50.448381  48.951474  79.116074            8.894722  0.204436"
      ]
     },
     "execution_count": 3,
     "metadata": {},
     "output_type": "execute_result"
    }
   ],
   "source": [
    "# Generate a summary statistics table of mean, median, variance, standard deviation, and SEM of the tumor volume for each regimen\n",
    "mouse_study_mrgd_df = mouse_metadata_df.merge(study_results_df, on='Mouse ID', how='outer')\n",
    "\n",
    "mean_tum_vol = mouse_study_mrgd_df['Tumor Volume (mm3)'].mean()\n",
    "median_tum_vol = mouse_study_mrgd_df['Tumor Volume (mm3)'].median(axis=0)\n",
    "var_tum_vol = mouse_study_mrgd_df['Tumor Volume (mm3)'].var()\n",
    "std_tum_vol = mouse_study_mrgd_df['Tumor Volume (mm3)'].std(axis=0)\n",
    "sem_tum_vol = mouse_study_mrgd_df['Tumor Volume (mm3)'].sem(axis=0)\n",
    "\n",
    "stat_summary_df = pd.DataFrame({'mean':mean_tum_vol,\n",
    "                   'median':median_tum_vol,\n",
    "                   'variance':var_tum_vol,\n",
    "                   'standard deviation':[std_tum_vol],\n",
    "                    'SEM':sem_tum_vol})\n",
    "\n",
    "stat_summary_df"
   ]
  },
  {
   "cell_type": "markdown",
   "metadata": {},
   "source": [
    "## Bar plots"
   ]
  },
  {
   "cell_type": "code",
   "execution_count": 51,
   "metadata": {
    "scrolled": true
   },
   "outputs": [
    {
     "data": {
      "text/html": [
       "<div>\n",
       "<style scoped>\n",
       "    .dataframe tbody tr th:only-of-type {\n",
       "        vertical-align: middle;\n",
       "    }\n",
       "\n",
       "    .dataframe tbody tr th {\n",
       "        vertical-align: top;\n",
       "    }\n",
       "\n",
       "    .dataframe thead th {\n",
       "        text-align: right;\n",
       "    }\n",
       "</style>\n",
       "<table border=\"1\" class=\"dataframe\">\n",
       "  <thead>\n",
       "    <tr style=\"text-align: right;\">\n",
       "      <th></th>\n",
       "      <th>Drug Regimen</th>\n",
       "      <th>Tumor Volume (mm3)</th>\n",
       "    </tr>\n",
       "  </thead>\n",
       "  <tbody>\n",
       "    <tr>\n",
       "      <td>0</td>\n",
       "      <td>Capomulin</td>\n",
       "      <td>19.475303</td>\n",
       "    </tr>\n",
       "    <tr>\n",
       "      <td>1</td>\n",
       "      <td>Ceftamin</td>\n",
       "      <td>-42.516492</td>\n",
       "    </tr>\n",
       "    <tr>\n",
       "      <td>2</td>\n",
       "      <td>Infubinol</td>\n",
       "      <td>-46.123472</td>\n",
       "    </tr>\n",
       "    <tr>\n",
       "      <td>3</td>\n",
       "      <td>Ketapril</td>\n",
       "      <td>-57.028795</td>\n",
       "    </tr>\n",
       "    <tr>\n",
       "      <td>4</td>\n",
       "      <td>Naftisol</td>\n",
       "      <td>-53.923347</td>\n",
       "    </tr>\n",
       "    <tr>\n",
       "      <td>5</td>\n",
       "      <td>Placebo</td>\n",
       "      <td>-51.297960</td>\n",
       "    </tr>\n",
       "    <tr>\n",
       "      <td>6</td>\n",
       "      <td>Propriva</td>\n",
       "      <td>-47.241175</td>\n",
       "    </tr>\n",
       "    <tr>\n",
       "      <td>7</td>\n",
       "      <td>Ramicane</td>\n",
       "      <td>22.320900</td>\n",
       "    </tr>\n",
       "    <tr>\n",
       "      <td>8</td>\n",
       "      <td>Stelasyn</td>\n",
       "      <td>-52.085134</td>\n",
       "    </tr>\n",
       "    <tr>\n",
       "      <td>9</td>\n",
       "      <td>Zoniferol</td>\n",
       "      <td>-46.579751</td>\n",
       "    </tr>\n",
       "  </tbody>\n",
       "</table>\n",
       "</div>"
      ],
      "text/plain": [
       "  Drug Regimen  Tumor Volume (mm3)\n",
       "0    Capomulin           19.475303\n",
       "1     Ceftamin          -42.516492\n",
       "2    Infubinol          -46.123472\n",
       "3     Ketapril          -57.028795\n",
       "4     Naftisol          -53.923347\n",
       "5      Placebo          -51.297960\n",
       "6     Propriva          -47.241175\n",
       "7     Ramicane           22.320900\n",
       "8     Stelasyn          -52.085134\n",
       "9    Zoniferol          -46.579751"
      ]
     },
     "execution_count": 51,
     "metadata": {},
     "output_type": "execute_result"
    }
   ],
   "source": [
    "#print(mouse_study_mrgd_df.head(5))\n",
    "\n",
    "vol_day_0 = mouse_study_mrgd_df[mouse_study_mrgd_df['Timepoint']==0]\n",
    "vol_day_45 = mouse_study_mrgd_df[mouse_study_mrgd_df['Timepoint']==45]\n",
    "#vol_day_0['Tumor Volume (mm3)']=vol_day_0['Tumor Volume (mm3)'].astype(float)\n",
    "sum_day_0 = vol_day_0.groupby('Drug Regimen')['Tumor Volume (mm3)'].mean()\n",
    "sum_day_45 = vol_day_45.groupby('Drug Regimen')['Tumor Volume (mm3)'].mean()\n",
    "\n",
    "pct_tum_vol_chg = (sum_day_0 - sum_day_45)*100/sum_day_0\n",
    "#print(vol_day_0)\n",
    "#print(vol_day_45)\n",
    "#print(sum_day_0)\n",
    "#print(sum_day_45)\n",
    "pct_tum_vol_chg\n",
    "pct_tum_vol_chg_df = pct_tum_vol_chg.to_frame().reset_index()\n",
    "pct_tum_vol_chg_df"
   ]
  },
  {
   "cell_type": "code",
   "execution_count": 58,
   "metadata": {},
   "outputs": [
    {
     "data": {
      "text/plain": [
       "Text(0.5, 1.0, 'Tumor Change over 45 Day Treatment')"
      ]
     },
     "execution_count": 58,
     "metadata": {},
     "output_type": "execute_result"
    },
    {
     "data": {
      "image/png": "[encoded data removed]",
      "text/plain": [
       "<Figure size 432x288 with 1 Axes>"
      ]
     },
     "metadata": {
      "needs_background": "light"
     },
     "output_type": "display_data"
    }
   ],
   "source": [
    "# Generate a bar plot showing number of data points for each treatment regimen using pandas\n",
    "x_axis=pct_tum_vol_chg_df['Drug Regimen']\n",
    "drug_list = ['Capomulin','Infubinol','Ketapril','Placebo']\n",
    "\n",
    "#tick_locations = [value for value in x_axis]\n",
    "passing = pct_tum_vol_chg_df['Tumor Volume (mm3)'] < 0\n",
    "plt.bar(x_axis, pct_tum_vol_chg_df['Tumor Volume (mm3)'],width=-1,align='edge',color=passing.map({True:'g',False:'r'}))\n",
    "plt.grid()\n",
    "plt.ylim(-30,70)\n",
    "plt.ylabel('% Tumor Volume Change')\n",
    "plt.title('Tumor Change over 45 Day Treatment')\n",
    "#plt.xticks(tick_locations,mouse_study_mrgd_df['Drug Regimen'],rotation='vertical')\n",
    "\n"
   ]
  },
  {
   "cell_type": "code",
   "execution_count": null,
   "metadata": {},
   "outputs": [],
   "source": [
    "# Generate a bar plot showing number of data points for each treatment regimen using pyplot"
   ]
  },
  {
   "cell_type": "markdown",
   "metadata": {},
   "source": [
    "## Pie plots"
   ]
  },
  {
   "cell_type": "code",
   "execution_count": null,
   "metadata": {},
   "outputs": [],
   "source": [
    "# Generate a pie plot showing the distribution of female versus male mice using pandas"
   ]
  },
  {
   "cell_type": "code",
   "execution_count": null,
   "metadata": {},
   "outputs": [],
   "source": [
    "# Generate a pie plot showing the distribution of female versus male mice using pyplot"
   ]
  },
  {
   "cell_type": "markdown",
   "metadata": {},
   "source": [
    "## Quartiles, outliers and boxplots"
   ]
  },
  {
   "cell_type": "code",
   "execution_count": null,
   "metadata": {},
   "outputs": [],
   "source": [
    "# Calculate the final tumor volume of each mouse across four of the most promising treatment regimens. Calculate the IQR and quantitatively determine if there are any potential outliers. "
   ]
  },
  {
   "cell_type": "code",
   "execution_count": null,
   "metadata": {},
   "outputs": [],
   "source": [
    "# Generate a box plot of the final tumor volume of each mouse across four regimens of interest"
   ]
  },
  {
   "cell_type": "markdown",
   "metadata": {},
   "source": [
    "## Line and scatter plots"
   ]
  },
  {
   "cell_type": "code",
   "execution_count": null,
   "metadata": {},
   "outputs": [],
   "source": [
    "# Generate a line plot of time point versus tumor volume for a mouse treated with Capomulin"
   ]
  },
  {
   "cell_type": "code",
   "execution_count": null,
   "metadata": {},
   "outputs": [],
   "source": [
    "# Generate a scatter plot of mouse weight versus average tumor volume for the Capomulin regimen"
   ]
  },
  {
   "cell_type": "code",
   "execution_count": null,
   "metadata": {},
   "outputs": [],
   "source": [
    "# Calculate the correlation coefficient and linear regression model for mouse weight and average tumor volume for the Capomulin regimen"
   ]
  },
  {
   "cell_type": "code",
   "execution_count": null,
   "metadata": {},
   "outputs": [],
   "source": []
  }
 ],
 "metadata": {
  "anaconda-cloud": {},
  "kernelspec": {
   "display_name": "Python 3",
   "language": "python",
   "name": "python3"
  },
  "language_info": {
   "codemirror_mode": {
    "name": "ipython",
    "version": 3
   },
   "file_extension": ".py",
   "mimetype": "text/x-python",
   "name": "python",
   "nbconvert_exporter": "python",
   "pygments_lexer": "ipython3",
   "version": "3.7.4"
  }
 },
 "nbformat": 4,
 "nbformat_minor": 2
}
